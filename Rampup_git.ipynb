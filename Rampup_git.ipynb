{
 "cells": [
  {
   "cell_type": "markdown",
   "metadata": {},
   "source": [
    "# Boolean string test methods\n",
    "* .isalpha()\n",
    "* .isalnum()\n",
    "* .istitle()\n",
    "* .isdigit()\n",
    "* .islower()\n",
    "* .isupper()\n",
    "* .iscapitalize()\n",
    "* .startswith()\n",
    "\n",
    "# Escape formating\n",
    "* \\n - create newline\n",
    "* \\t - tab (can also use as \\t\\t for double tab spacing)\n",
    "* for single quote use \\'abcde\\'\n",
    "* for double quote use \\\"abcde\\\"\n",
    "* for backslash use \\\\abcde\\\\\n",
    "\n",
    "# Python Arithmetic Operators like ==, +=, != etc\n",
    "https://python-reference.readthedocs.io/en/latest/docs/operators/#assignment-operators"
   ]
  },
  {
   "cell_type": "markdown",
   "metadata": {},
   "source": [
    "# List, Dict, Set, Tuple\n",
    "### \n",
    "* List [] - ordered, editable\n",
    "* Dict {} - unordered, editable\n",
    "* Set {} - unordered, editable, unique (no repeat)\n",
    "* Tuple () - ordered, uneditable"
   ]
  },
  {
   "cell_type": "code",
   "execution_count": 32,
   "metadata": {},
   "outputs": [
    {
     "name": "stdout",
     "output_type": "stream",
     "text": [
      "my age is\t\t 20\n",
      "my age is \n",
      "33\n",
      "my age is '20'\n",
      "my age is \"20\"\n",
      "my age is \\20\\\n"
     ]
    }
   ],
   "source": [
    "print('my age is\\t\\t 20')\n",
    "print('my age is \\n33')\n",
    "print(\"my age is \\'20\\'\")\n",
    "print(\"my age is \\\"20\\\"\")\n",
    "print(\"my age is \\\\20\\\\\")"
   ]
  },
  {
   "cell_type": "code",
   "execution_count": 17,
   "metadata": {},
   "outputs": [
    {
     "name": "stdout",
     "output_type": "stream",
     "text": [
      "Largest number is 101\n"
     ]
    }
   ],
   "source": [
    "list=[3,12,101]\n",
    "print(\"Largest number is\", max(list))"
   ]
  },
  {
   "cell_type": "markdown",
   "metadata": {},
   "source": [
    "# Conversion script & user input - 2 samples"
   ]
  },
  {
   "cell_type": "code",
   "execution_count": 2,
   "metadata": {},
   "outputs": [
    {
     "name": "stdout",
     "output_type": "stream",
     "text": [
      "USD121.0 will give me SGD164\n"
     ]
    }
   ],
   "source": [
    "mycurrency=float(input(\"I want to convert into SGD my amount of USD: \"))\n",
    "sgd=round(mycurrency*1.3565)\n",
    "print(f\"USD{mycurrency} will give me SGD{sgd}\")"
   ]
  },
  {
   "cell_type": "code",
   "execution_count": 36,
   "metadata": {},
   "outputs": [
    {
     "name": "stdout",
     "output_type": "stream",
     "text": [
      "You entered:MIMI\n"
     ]
    },
    {
     "data": {
      "text/plain": [
       "str"
      ]
     },
     "execution_count": 36,
     "metadata": {},
     "output_type": "execute_result"
    }
   ],
   "source": [
    "small_name=input(\"Enter your name\")\n",
    "print(\"You entered:\"+small_name.upper())\n",
    "#Below is just extra\n",
    "type(small_name)"
   ]
  },
  {
   "cell_type": "markdown",
   "metadata": {},
   "source": [
    "### or below also can"
   ]
  },
  {
   "cell_type": "code",
   "execution_count": 32,
   "metadata": {},
   "outputs": [
    {
     "name": "stdout",
     "output_type": "stream",
     "text": [
      "Enter your name\n"
     ]
    },
    {
     "data": {
      "text/plain": [
       "str"
      ]
     },
     "execution_count": 32,
     "metadata": {},
     "output_type": "execute_result"
    }
   ],
   "source": [
    "print('Enter your name')\n",
    "myname=input()\n",
    "#Below is just extra\n",
    "type(myname)"
   ]
  },
  {
   "cell_type": "code",
   "execution_count": 10,
   "metadata": {},
   "outputs": [
    {
     "data": {
      "text/plain": [
       "str"
      ]
     },
     "execution_count": 10,
     "metadata": {},
     "output_type": "execute_result"
    }
   ],
   "source": [
    "x=\"ab * 2.3\"\n",
    "type(x)"
   ]
  },
  {
   "cell_type": "code",
   "execution_count": 16,
   "metadata": {},
   "outputs": [
    {
     "name": "stdout",
     "output_type": "stream",
     "text": [
      "my name is 88 and i live in sg\n"
     ]
    }
   ],
   "source": [
    "# Numbers inside print() must have apostrophe when using PLUS sign\n",
    "\n",
    "city='sg'\n",
    "print('my name is ' + '88' ' and i live in ' + city)"
   ]
  },
  {
   "cell_type": "code",
   "execution_count": 24,
   "metadata": {},
   "outputs": [
    {
     "name": "stdout",
     "output_type": "stream",
     "text": [
      "MY NAME IS 88 and i live in sg\n"
     ]
    }
   ],
   "source": [
    " # Numbers inside print() DONT NEED apostrophe when using comma\n",
    "\n",
    "city='sg'\n",
    "print('my name is'.upper(), 88, 'and i live in', city)"
   ]
  },
  {
   "cell_type": "code",
   "execution_count": 25,
   "metadata": {},
   "outputs": [
    {
     "name": "stdout",
     "output_type": "stream",
     "text": [
      "my name is not cat\n",
      "MY NAME IS NOT CAT\n",
      "My name is not cat\n",
      "My Name Is Not Cat\n",
      "MY name IS NOT CAT\n"
     ]
    }
   ],
   "source": [
    "print('my NAME is not cat'.lower())\n",
    "print('my name is not cat'.upper())\n",
    "print('my name is not cat'.capitalize())\n",
    "print('my name is not cat'.title())\n",
    "print('my NAME is not cat'.swapcase())"
   ]
  },
  {
   "cell_type": "markdown",
   "metadata": {},
   "source": [
    "# Boolean"
   ]
  },
  {
   "cell_type": "code",
   "execution_count": 8,
   "metadata": {},
   "outputs": [
    {
     "name": "stdout",
     "output_type": "stream",
     "text": [
      "False\n",
      "True\n"
     ]
    }
   ],
   "source": [
    "menu=[3, 5, 7]\n",
    "print(12 in menu)\n",
    "#Below is extra\n",
    "menu=('Ordered my Pizzahut')\n",
    "print('Pizza'.lower() in menu.lower())"
   ]
  },
  {
   "cell_type": "markdown",
   "metadata": {},
   "source": [
    "# Def Function"
   ]
  },
  {
   "cell_type": "code",
   "execution_count": 29,
   "metadata": {},
   "outputs": [
    {
     "name": "stdout",
     "output_type": "stream",
     "text": [
      "Hello world\n",
      "123\n"
     ]
    }
   ],
   "source": [
    "# Fn without Parameters inside da bracket\n",
    "def say_hi():\n",
    "    print('Hello world')\n",
    "    print(123)\n",
    "say_hi()"
   ]
  },
  {
   "cell_type": "code",
   "execution_count": 31,
   "metadata": {},
   "outputs": [
    {
     "name": "stdout",
     "output_type": "stream",
     "text": [
      "GOOD BLOODY MORNING yeah!\n"
     ]
    }
   ],
   "source": [
    "# Fn with Parameters aka future inputs, inside da bracket and an argument in line 3 aka Good bloody morning\n",
    "def yell_this(phrase):\n",
    "    print(phrase.upper() + \"yeah!\")\n",
    "yell_this('Good bloody morning ')"
   ]
  },
  {
   "cell_type": "code",
   "execution_count": 36,
   "metadata": {},
   "outputs": [
    {
     "name": "stdout",
     "output_type": "stream",
     "text": [
      "GOOD BLOODY MORNING yeah!\n",
      "GOOD DAY SIR yeah!\n",
      "GOOD NIGHTyeah!\n"
     ]
    }
   ],
   "source": [
    "#Same as above but without argument when calling da fn in da last line\n",
    "def yell_this(phrase = 'good night'):\n",
    "    print(phrase.upper() + \"yeah!\")\n",
    "yell_this('Good bloody morning ')\n",
    "yell_this('Good day sir ')\n",
    "yell_this()"
   ]
  },
  {
   "cell_type": "markdown",
   "metadata": {},
   "source": [
    "# Examples of Def Fn with RETURN VALUE"
   ]
  },
  {
   "cell_type": "code",
   "execution_count": 18,
   "metadata": {},
   "outputs": [
    {
     "data": {
      "text/plain": [
       "2000.0"
      ]
     },
     "execution_count": 18,
     "metadata": {},
     "output_type": "execute_result"
    }
   ],
   "source": [
    "#Example of RETURN VALUE\n",
    "def mypay_b4CPF(value):\n",
    "    return value*0.8\n",
    "mypay_b4Cpf(2500)"
   ]
  },
  {
   "cell_type": "markdown",
   "metadata": {},
   "source": [
    "## Below 3 are similar examples"
   ]
  },
  {
   "cell_type": "code",
   "execution_count": 24,
   "metadata": {},
   "outputs": [
    {
     "name": "stdout",
     "output_type": "stream",
     "text": [
      "Baby are you cooking tonight? I am very hungry already!\n"
     ]
    }
   ],
   "source": [
    "def whatsapp_msg(phrase):\n",
    "    us=phrase + \" \" + \"I am very hungry already!\" #Further refining da parameter\n",
    "    return us\n",
    "msg_was=whatsapp_msg(\"Baby are you cooking tonight?\")\n",
    "print(msg_was)\n"
   ]
  },
  {
   "cell_type": "code",
   "execution_count": 40,
   "metadata": {},
   "outputs": [
    {
     "name": "stdout",
     "output_type": "stream",
     "text": [
      "SCHEDULE: [1st]Maths , [2nd]History\n"
     ]
    }
   ],
   "source": [
    "def make_schedule(period1, period2):\n",
    "    schedule=(\"[1st]\" + period1.title() + \" , [2nd]\" + period2.title())\n",
    "    return schedule\n",
    "student_schedule = make_schedule('maths', 'history')\n",
    "print('SCHEDULE:', student_schedule)"
   ]
  },
  {
   "cell_type": "code",
   "execution_count": 124,
   "metadata": {},
   "outputs": [
    {
     "data": {
      "text/plain": [
       "21.213203435596427"
      ]
     },
     "execution_count": 124,
     "metadata": {},
     "output_type": "execute_result"
    }
   ],
   "source": [
    "def pythagoras_calc(a,b): # 2 parameters\n",
    "    c=(a**2 + b**2)**0.5 #** means square of\n",
    "    return c\n",
    "pythagoras_calc(21, 3) # or pythagoras_calc(21, 3) also can"
   ]
  },
  {
   "cell_type": "code",
   "execution_count": 128,
   "metadata": {},
   "outputs": [
    {
     "data": {
      "text/plain": [
       "9"
      ]
     },
     "execution_count": 128,
     "metadata": {},
     "output_type": "execute_result"
    }
   ],
   "source": [
    "def square_calculator(x): #1 parameter only\n",
    "    return (x**2)\n",
    "\n",
    "square_calculator(3)"
   ]
  },
  {
   "cell_type": "code",
   "execution_count": 126,
   "metadata": {},
   "outputs": [
    {
     "data": {
      "text/plain": [
       "9"
      ]
     },
     "execution_count": 126,
     "metadata": {},
     "output_type": "execute_result"
    }
   ],
   "source": [
    "def square_calculator(x): #1 parameter only\n",
    "    return x**2\n",
    "\n",
    "square_calculator(3)"
   ]
  },
  {
   "cell_type": "code",
   "execution_count": 45,
   "metadata": {},
   "outputs": [
    {
     "name": "stdout",
     "output_type": "stream",
     "text": [
      "Member: John\n",
      "Age: 18\n",
      "Setai: Yes\n"
     ]
    }
   ],
   "source": [
    "def format_info(name, age, setai):\n",
    "    return \"Member: \" + name + '\\nAge: ' + str(age) + '\\nSetai: ' + setai #\\n means go to nx line\n",
    "print(format_info(\"John\", 18, \"Yes\")) "
   ]
  },
  {
   "cell_type": "markdown",
   "metadata": {},
   "source": [
    "# Conditionals | Note: Must ALWAYS type False/True in capitalize"
   ]
  },
  {
   "cell_type": "code",
   "execution_count": 50,
   "metadata": {},
   "outputs": [
    {
     "name": "stdout",
     "output_type": "stream",
     "text": [
      "Nice to meet u\n"
     ]
    }
   ],
   "source": [
    "someone_i_know=False\n",
    "if someone_i_know:\n",
    "    print('How are you man!')\n",
    "else:\n",
    "    print('Nice to meet u')"
   ]
  },
  {
   "cell_type": "code",
   "execution_count": 52,
   "metadata": {},
   "outputs": [
    {
     "name": "stdout",
     "output_type": "stream",
     "text": [
      "How have u been man!\n"
     ]
    }
   ],
   "source": [
    "someone_i_know=True\n",
    "if someone_i_know:\n",
    "    print('How have u been man!')\n",
    "else:\n",
    "    pass"
   ]
  },
  {
   "cell_type": "code",
   "execution_count": 59,
   "metadata": {},
   "outputs": [
    {
     "name": "stdout",
     "output_type": "stream",
     "text": [
      "mini is your fave bk Tip: remember to capitalize your answer\n"
     ]
    }
   ],
   "source": [
    "fave_book=input('Enter title of your fave book:')\n",
    "\n",
    "if fave_book.istitle():\n",
    "    print(fave_book + ' is your fave bk', 'hmm, nice capitalization in the title')\n",
    "else:\n",
    "    print(fave_book + ' is your fave bk', 'Tip: but remember to capitalize your answer')"
   ]
  },
  {
   "cell_type": "code",
   "execution_count": 65,
   "metadata": {},
   "outputs": [
    {
     "name": "stdout",
     "output_type": "stream",
     "text": [
      "-3 is not a positive int\n"
     ]
    }
   ],
   "source": [
    "a_nos=input('Think of a positive integer now!')\n",
    "\n",
    "if a_nos.isdigit(): #if -ve will return False\n",
    "    print(a_nos + ' is a positive int')\n",
    "else:\n",
    "    print(a_nos + ' is not a positive int')\n"
   ]
  },
  {
   "cell_type": "code",
   "execution_count": 67,
   "metadata": {},
   "outputs": [
    {
     "name": "stdout",
     "output_type": "stream",
     "text": [
      "mm is a word\n"
     ]
    }
   ],
   "source": [
    "a_word=input('Think of a word now!')\n",
    "\n",
    "if a_word.isalpha(): #if not an alphabet will return False\n",
    "    print(a_word + ' is a word')\n",
    "else:\n",
    "    print(a_word + ' is not a word')\n"
   ]
  },
  {
   "cell_type": "code",
   "execution_count": 74,
   "metadata": {},
   "outputs": [
    {
     "name": "stdout",
     "output_type": "stream",
     "text": [
      "x is not equal 9  True\n",
      "x equal 3  True\n"
     ]
    }
   ],
   "source": [
    "x=3\n",
    "print('x is not equal 9 ', x!=9)\n",
    "print('x equal 3 ', x==3)"
   ]
  },
  {
   "cell_type": "code",
   "execution_count": 76,
   "metadata": {},
   "outputs": [
    {
     "name": "stdout",
     "output_type": "stream",
     "text": [
      "x was 21\n",
      "Now x is 33\n"
     ]
    }
   ],
   "source": [
    "x=21\n",
    "\n",
    "if x>25:\n",
    "    print('x is already greater than 25')\n",
    "else:\n",
    "    print('x was', x)\n",
    "    x=33\n",
    "    print('Now x is', x)"
   ]
  },
  {
   "cell_type": "code",
   "execution_count": 79,
   "metadata": {},
   "outputs": [
    {
     "name": "stdout",
     "output_type": "stream",
     "text": [
      "Cool, great diff!\n"
     ]
    }
   ],
   "source": [
    "a=10\n",
    "b=999\n",
    "\n",
    "if a != b:\n",
    "    print('Cool, great diff!')\n",
    "else:\n",
    "    print('Opps, key wrongly')"
   ]
  },
  {
   "cell_type": "code",
   "execution_count": 84,
   "metadata": {},
   "outputs": [
    {
     "name": "stdout",
     "output_type": "stream",
     "text": [
      "That is right!\n"
     ]
    }
   ],
   "source": [
    "a=10\n",
    "if a==10:\n",
    "    print('That is right!')\n",
    "else:\n",
    "    pass"
   ]
  },
  {
   "cell_type": "markdown",
   "metadata": {},
   "source": [
    "## Nested Conditionals"
   ]
  },
  {
   "cell_type": "code",
   "execution_count": 89,
   "metadata": {},
   "outputs": [
    {
     "name": "stdout",
     "output_type": "stream",
     "text": [
      "So it is 10\n"
     ]
    }
   ],
   "source": [
    "a=10\n",
    "\n",
    "if a >= 10:\n",
    "    if a>10:\n",
    "        print('Its greater than 10')\n",
    "    else:\n",
    "        print('So it is 10')\n",
    "else:\n",
    "    print('Smaller than 10')"
   ]
  },
  {
   "cell_type": "markdown",
   "metadata": {},
   "source": [
    "## Sandwich order "
   ]
  },
  {
   "cell_type": "code",
   "execution_count": 101,
   "metadata": {},
   "outputs": [
    {
     "name": "stdout",
     "output_type": "stream",
     "text": [
      "\n",
      "\n",
      "Here is your Manchego Cheese Sandwich\n"
     ]
    }
   ],
   "source": [
    "sandwich_type=input('\"c\" for Cheese or \"v\" for Veggie Special: ')\n",
    "\n",
    "if sandwich_type.lower() == 'c':\n",
    "    cheese_type=input('\"c\" for Cheddar or \"m\" for Manchego: ')\n",
    "    if cheese_type.lower() == 'c':\n",
    "        print('Here is yur Cheddar Cheese Sandwich')\n",
    "    else:\n",
    "        print('Here is your Manchego Cheese Sandwich')\n",
    "else: \n",
    "    print('Here is your Veggie Special')"
   ]
  },
  {
   "cell_type": "markdown",
   "metadata": {},
   "source": [
    "## FULL burger order script with 3 parameters"
   ]
  },
  {
   "cell_type": "code",
   "execution_count": 16,
   "metadata": {},
   "outputs": [
    {
     "name": "stdout",
     "output_type": "stream",
     "text": [
      "Welcome to myburger shop!\n",
      "\n",
      "Sorry, please try ordering again :)\n",
      "\n",
      "See you soon!\n"
     ]
    }
   ],
   "source": [
    "print('Welcome to myburger shop!')\n",
    "burger_type=input('Press \"c\" for cheese, \"d\" for double patty, \"z\" for kosong')\n",
    "print() #add newline between sentences\n",
    "\n",
    "if burger_type.lower() == 'c': # for cheese\n",
    "    print('Please select your cheese type')\n",
    "    cheese_type=input('Press \"c\" for cheddar or \"s\" for swiss')\n",
    "    print()\n",
    "    if cheese_type.lower() == 'c':\n",
    "        print('Enjoy your cheese burger!')\n",
    "    elif cheese_type.lower() == 's':\n",
    "        print('Enjoy your swiss burger!')\n",
    "elif burger_type.lower() == 'd': # for double patty\n",
    "    print('Please select your patty type')\n",
    "    patty_type=input('Press \"w\" for wagyu or \"o\" for original')\n",
    "    print()\n",
    "    if patty_type.lower() == 'w':\n",
    "        print('Enjoy your wagyu burger!')\n",
    "    elif patty_type.lower() == 'o':\n",
    "        print('Enjoy your original burger taste!')\n",
    "    else:\n",
    "        print('Please select again')\n",
    "elif burger_type.lower() == 'z': # for kosong\n",
    "    print('Enjoy your kosong burger!')\n",
    "else: # for user who press wrongly\n",
    "    print('Sorry, please try ordering again :)')\n",
    "print()\n",
    "\n",
    "print('See you soon!')"
   ]
  },
  {
   "cell_type": "markdown",
   "metadata": {},
   "source": [
    "# while loop"
   ]
  },
  {
   "cell_type": "markdown",
   "metadata": {},
   "source": [
    "## Activity 1 from Python I - Check food allergy via conditionals"
   ]
  },
  {
   "cell_type": "code",
   "execution_count": 58,
   "metadata": {},
   "outputs": [
    {
     "name": "stdout",
     "output_type": "stream",
     "text": [
      "It is True that nuts contains dairy\n"
     ]
    }
   ],
   "source": [
    "while True:\n",
    "    you=str(input('Enter food: '))\n",
    "    if you.isdigit():\n",
    "        print('Type in text')\n",
    "    elif you.lower() == 'nuts':\n",
    "        print(f'{you}, it is allergy')\n",
    "    elif you.lower() == 'seafood':\n",
    "        print(f'{you}, it is allergy')\n",
    "    elif you.lower() == 'milk':\n",
    "        print(f'{you}, it is allergy')\n",
    "    else:\n",
    "        print(f'{you}, it is not allergy')"
   ]
  },
  {
   "cell_type": "markdown",
   "metadata": {},
   "source": [
    "### Activity 2 from Python I - Return fish name & price via function"
   ]
  },
  {
   "cell_type": "code",
   "execution_count": 107,
   "metadata": {},
   "outputs": [
    {
     "data": {
      "text/plain": [
       "'Fish type: tuna costs $12'"
      ]
     },
     "execution_count": 107,
     "metadata": {},
     "output_type": "execute_result"
    }
   ],
   "source": [
    "def fishstore(fish_name, fish_price):\n",
    "    return f\"Fish type: {fish_name} costs ${fish_price}\"\n",
    "\n",
    "fish_input=input('Enter fish name')\n",
    "price_input=input('Enter price')\n",
    "\n",
    "fishstore(fish_input,price_input)"
   ]
  },
  {
   "cell_type": "markdown",
   "metadata": {},
   "source": [
    "### Activity 4 from Python I - \"Enter a word or integer\""
   ]
  },
  {
   "cell_type": "code",
   "execution_count": 106,
   "metadata": {},
   "outputs": [
    {
     "name": "stdout",
     "output_type": "stream",
     "text": [
      "xx is all alphabetical\n"
     ]
    }
   ],
   "source": [
    "def str_analysis(user_input):\n",
    "    if user_input.isdigit():\n",
    "        user_input=int(user_input)\n",
    "        if user_input > 99:\n",
    "            print('Big number')\n",
    "        else:\n",
    "            print('Small number')\n",
    "    elif user_input.isalpha():\n",
    "        print(user_input, 'is all alphabetical')\n",
    "    else:\n",
    "        print(user_input, 'Neither letter nor number')\n",
    "\n",
    "while True:\n",
    "    user_input=input('Enter a word or integer')\n",
    "    if user_input != \"\": # means if da entry is not empty, meaning got type something, then break\n",
    "        break\n",
    "    \n",
    "str_analysis(user_input)\n",
    "    "
   ]
  },
  {
   "cell_type": "markdown",
   "metadata": {},
   "source": [
    "### Assignment from Python I - Report creation - Choose A or T with sum of integers"
   ]
  },
  {
   "cell_type": "code",
   "execution_count": 157,
   "metadata": {},
   "outputs": [],
   "source": [
    "def adding_report(report_type):\n",
    "    total=0\n",
    "\n",
    "    while True:\n",
    "        user_input=input('Enter integer or Q to quit')\n",
    "\n",
    "        if user_input.isdigit():\n",
    "            user_input=int(user_input)\n",
    "            total=total + user_input\n",
    "\n",
    "        else:\n",
    "            if user_input == 'Q':\n",
    "                break\n",
    "\n",
    "    return total\n",
    "\n",
    "while True:\n",
    "    user_input = input('Choose report type A or T')\n",
    "    if user_input == 'A' or user_input == 'T':\n",
    "        break"
   ]
  },
  {
   "cell_type": "code",
   "execution_count": 7,
   "metadata": {},
   "outputs": [
    {
     "name": "stdout",
     "output_type": "stream",
     "text": [
      "1 is incorrect\n",
      "2 is incorrect\n",
      "Yes! 5 is correct!\n"
     ]
    }
   ],
   "source": [
    "number_guess='0'\n",
    "secret_nos='5'\n",
    "\n",
    "while True:\n",
    "    number_guess=input('guess the number 1 to 5')\n",
    "    if number_guess == secret_nos:\n",
    "        print('Yes!', number_guess, 'is correct!')\n",
    "        break\n",
    "    else:\n",
    "        print(number_guess, 'is incorrect')"
   ]
  },
  {
   "cell_type": "code",
   "execution_count": 7,
   "metadata": {},
   "outputs": [
    {
     "name": "stdout",
     "output_type": "stream",
     "text": [
      "22 is not a word\n",
      "\n",
      "45.6 is not a word\n",
      "\n",
      "Welcome we!\n"
     ]
    }
   ],
   "source": [
    "while True:\n",
    "    f_name=input('Enter one word: ')\n",
    "    if f_name.isalpha():\n",
    "        break\n",
    "    else:\n",
    "        print(f_name, 'is not a word\\n')\n",
    "print(\"Welcome\", f_name + \"!\") #can insert b4 break also"
   ]
  },
  {
   "cell_type": "markdown",
   "metadata": {},
   "source": [
    "## Increment & Decrement using operands like -= and +="
   ]
  },
  {
   "cell_type": "code",
   "execution_count": null,
   "metadata": {},
   "outputs": [],
   "source": [
    "seat_count=0\n",
    "\n",
    "while True:\n",
    "    seat_count = seat_count + 1\n",
    "    print('seat_count: ', seat_count)\n",
    "\n",
    "     if seat_count>= 4:\n",
    "        print('no more seats')\n",
    "        break"
   ]
  },
  {
   "cell_type": "code",
   "execution_count": 2,
   "metadata": {},
   "outputs": [
    {
     "name": "stdout",
     "output_type": "stream",
     "text": [
      "Remaining seats left:  4\n",
      "Remaining seats left:  3\n",
      "Remaining seats left:  2\n",
      "Remaining seats left:  1\n",
      "Final seat count:  0\n"
     ]
    }
   ],
   "source": [
    "seat_count=4\n",
    "\n",
    "while True:\n",
    "    print('Remaining seats left: ', seat_count)\n",
    "    seat_count=seat_count - 1\n",
    "\n",
    "    if seat_count <= 0:\n",
    "        print('Final seat count: ', seat_count)\n",
    "        break"
   ]
  },
  {
   "cell_type": "code",
   "execution_count": 106,
   "metadata": {},
   "outputs": [
    {
     "data": {
      "text/plain": [
       "3"
      ]
     },
     "execution_count": 106,
     "metadata": {},
     "output_type": "execute_result"
    }
   ],
   "source": [
    "18 % 5 # % is a modulo, gives da remainder"
   ]
  },
  {
   "cell_type": "markdown",
   "metadata": {},
   "source": [
    "# Set"
   ]
  },
  {
   "cell_type": "code",
   "execution_count": 44,
   "metadata": {},
   "outputs": [
    {
     "data": {
      "text/plain": [
       "{1, 2, 3, 4, 5, 9, 99}"
      ]
     },
     "execution_count": 44,
     "metadata": {},
     "output_type": "execute_result"
    }
   ],
   "source": [
    "#When want to remove duplicate figures\n",
    "\n",
    "report={1,2,2,2,3,4,5,5,5,99,9}\n",
    "mylist = set(report)\n",
    "mylist"
   ]
  },
  {
   "cell_type": "markdown",
   "metadata": {},
   "source": [
    "# List"
   ]
  },
  {
   "cell_type": "code",
   "execution_count": 31,
   "metadata": {},
   "outputs": [
    {
     "data": {
      "text/plain": [
       "'a'"
      ]
     },
     "execution_count": 31,
     "metadata": {},
     "output_type": "execute_result"
    }
   ],
   "source": [
    "vowels_list = [\"a\", \"e\", \"i\", \"o\", \"u\"]\n",
    "vowels_list[0]"
   ]
  },
  {
   "cell_type": "code",
   "execution_count": 1,
   "metadata": {},
   "outputs": [
    {
     "name": "stdout",
     "output_type": "stream",
     "text": [
      "a\n"
     ]
    }
   ],
   "source": [
    "vowels_list = [\"a\", \"e\", \"i\", \"o\", \"u\"]\n",
    "print(vowels_list[0])"
   ]
  },
  {
   "cell_type": "code",
   "execution_count": 32,
   "metadata": {},
   "outputs": [
    {
     "data": {
      "text/plain": [
       "'o'"
      ]
     },
     "execution_count": 32,
     "metadata": {},
     "output_type": "execute_result"
    }
   ],
   "source": [
    "vowels_list = [\"a\", \"e\", \"i\", \"o\", \"u\"]\n",
    "vowels_list[-2]"
   ]
  },
  {
   "cell_type": "code",
   "execution_count": 35,
   "metadata": {},
   "outputs": [
    {
     "data": {
      "text/plain": [
       "[1, 2, 99, 110]"
      ]
     },
     "execution_count": 35,
     "metadata": {},
     "output_type": "execute_result"
    }
   ],
   "source": [
    "#Updating da list\n",
    "\n",
    "noslist = [1, 2, 5, 110]\n",
    "noslist[2]=99\n",
    "noslist"
   ]
  },
  {
   "cell_type": "code",
   "execution_count": 85,
   "metadata": {},
   "outputs": [
    {
     "data": {
      "text/plain": [
       "7"
      ]
     },
     "execution_count": 85,
     "metadata": {},
     "output_type": "execute_result"
    }
   ],
   "source": [
    "report={1,2,2,2,3,4,5,5,5,99,9}\n",
    "len(report)"
   ]
  }
 ],
 "metadata": {
  "interpreter": {
   "hash": "119fe77ca0c42919e4e3609916759f90cfc6e30117cd65a2bbe9210b4c4af145"
  },
  "kernelspec": {
   "display_name": "Python 3.9.5 64-bit",
   "name": "python3"
  },
  "language_info": {
   "codemirror_mode": {
    "name": "ipython",
    "version": 3
   },
   "file_extension": ".py",
   "mimetype": "text/x-python",
   "name": "python",
   "nbconvert_exporter": "python",
   "pygments_lexer": "ipython3",
   "version": "3.9.5"
  },
  "orig_nbformat": 4
 },
 "nbformat": 4,
 "nbformat_minor": 2
}
